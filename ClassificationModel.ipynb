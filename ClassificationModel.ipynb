{
 "cells": [
  {
   "cell_type": "markdown",
   "metadata": {},
   "source": [
    "# Binary Classification\n",
    "# MultiClass Classification\n",
    "# MultiLabel Classification"
   ]
  },
  {
   "cell_type": "markdown",
   "metadata": {},
   "source": [
    "| Hyperparameter                 | Binary Classification        | MultiClass Classification    | MultiLabel Classification      |\n",
    "| ------------------------------ | -----------------------------| -----------------------------| ------------------------------ |\n",
    "| **Number of Classes**          | 2 (binary)                   | More than 2                  | More than 1 (multiple labels)  |\n",
    "| **Input Layer Shape**          | Features                     | Features                     | Features                       |\n",
    "| **Hidden Layers**              | 1 or more                    | 1 or more                    | 1 or more                      |\n",
    "| **Neurons per Hidden Layer**   | 64, 128, 256, etc.           | 64, 128, 256, etc.           | 64, 128, 256, etc.             |\n",
    "| **Output Layer Shape**         | 1                            | Number of classes            | Number of labels               |\n",
    "| **Hidden Activation**          | ReLU or other activation     | ReLU or other activation     | ReLU or other activation       |\n",
    "| **Output Activation**          | Sigmoid                      | Softmax                      | Sigmoid (per label)            |\n",
    "| **Loss Function**              | Binary Cross-Entropy         | Categorical Cross-Entropy    | Binary Cross-Entropy per label |\n",
    "| **Optimizer**                  | Adam, SGD, etc.              | Adam, SGD, etc.              | Adam, SGD, etc.                |\n",
    "| **Decision Threshold**         | Typically 0.5                | -                            | -                              |\n",
    "| **One-Hot Encoding**           | Not needed                   | Needed for target variable   | Needed for each label          |\n",
    "| **Example Libraries/Models**   | Logistic Regression, SVM     | Logistic Regression, CNN     | Binary Relevance, MLkNN, etc.  |\n",
    "| **Common Evaluation Metrics**  | Accuracy, Precision, Recall  | Accuracy, Precision, Recall  | Precision, Recall, F1-score    |\n",
    "\n"
   ]
  },
  {
   "cell_type": "markdown",
   "metadata": {},
   "source": [
    "The Stochastic Gradient Descent (SGD) update rule is given by the equation $( \\theta_{i+1} = \\theta_i - \\alpha \\nabla J(\\theta_i, x^{(i)}, y^{(i)}))$, where:\n",
    "- $( \\theta_i )$ is the parameter vector at iteration $( i)$,\n",
    "- $( \\alpha )$ is the learning rate (a positive scalar),\n",
    "- $( J(\\theta_i, x^{(i)}, y^{(i)}) )$ is the loss function,\n",
    "- $( \\nabla J(\\theta_i, x^{(i)}, y^{(i)}) )$ is the gradient of the loss function with respect to the parameters $( \\theta_i )$.\n",
    "\n",
    "The Adam optimization algorithm updates the parameters $ \\theta $ using the following equation:\n",
    "\n",
    "$ \\theta_{t+1} = \\theta_t - \\frac{\\alpha}{\\sqrt{\\hat{v}_t} + \\epsilon} \\cdot \\hat{m}_t $\n",
    "\n",
    "where:\n",
    "- $ \\theta_t $ is the parameter vector at time step $ t $,\n",
    "- $ \\alpha $ is the learning rate,\n",
    "- $ \\hat{m}_t $ is the biased first moment estimate,\n",
    "- $ \\hat{v}_t $ is the biased second raw moment estimate,\n",
    "- $ \\epsilon $ is a small constant for numerical stability.\n"
   ]
  },
  {
   "cell_type": "code",
   "execution_count": null,
   "metadata": {},
   "outputs": [],
   "source": [
    "import tensorflow as tf\n",
    "import numpy as np\n",
    "import matplotlib as plt\n",
    "import keras"
   ]
  },
  {
   "cell_type": "code",
   "execution_count": null,
   "metadata": {},
   "outputs": [],
   "source": [
    "# Making a data set\n",
    "from sklearn.datasets import *\n",
    "\n",
    "samples = 1000\n",
    "\n",
    "X, Y = make_circles(samples, noise=0.04)"
   ]
  },
  {
   "cell_type": "markdown",
   "metadata": {},
   "source": []
  }
 ],
 "metadata": {
  "kernelspec": {
   "display_name": "venv",
   "language": "python",
   "name": "python3"
  },
  "language_info": {
   "name": "python",
   "version": "3.9.12"
  }
 },
 "nbformat": 4,
 "nbformat_minor": 2
}
